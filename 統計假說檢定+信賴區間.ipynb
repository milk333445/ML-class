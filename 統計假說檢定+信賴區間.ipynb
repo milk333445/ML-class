{
  "nbformat": 4,
  "nbformat_minor": 0,
  "metadata": {
    "colab": {
      "provenance": []
    },
    "kernelspec": {
      "name": "python3",
      "display_name": "Python 3"
    },
    "language_info": {
      "name": "python"
    }
  },
  "cells": [
    {
      "cell_type": "markdown",
      "source": [
        "# Question 1(信賴區間)"
      ],
      "metadata": {
        "id": "QWCApUaLDc44"
      }
    },
    {
      "cell_type": "code",
      "source": [
        "import pandas as pd\n",
        "import numpy as np\n",
        "from numpy import random\n",
        "import seaborn as sns\n",
        "beta_0=3\n",
        "beta_1=-2\n",
        "sigma=1\n",
        "n=50"
      ],
      "metadata": {
        "id": "e7jriwuJDbh2"
      },
      "execution_count": null,
      "outputs": []
    },
    {
      "cell_type": "code",
      "source": [
        "y=[]\n",
        "x_data=[]\n",
        "residual_data=[]\n",
        "for i in range(n):\n",
        "  residual=random.normal(0,1)\n",
        "  x=random.uniform(-3,3)\n",
        "  data_y=beta_0+beta_1*x+residual\n",
        "  y.append(data_y)\n",
        "  x_data.append(x)\n",
        "  residual_data.append(residual_data)\n",
        "data=pd.DataFrame({'x':x_data,'y':y})\n",
        "data"
      ],
      "metadata": {
        "id": "407tLApcDbfX"
      },
      "execution_count": null,
      "outputs": []
    },
    {
      "cell_type": "code",
      "source": [
        "import matplotlib.pyplot as plt\n",
        "sns.regplot(x=x_data,y=y,order=1,ci=None, scatter_kws={'color':'r', 's':9})\n",
        "plt.xlabel('x')\n",
        "plt.ylabel('y')"
      ],
      "metadata": {
        "colab": {
          "base_uri": "https://localhost:8080/",
          "height": 297
        },
        "id": "SqxgG5hxDbaQ",
        "outputId": "a0dcb97c-8dc9-47f3-d408-95ac9a9fd393"
      },
      "execution_count": null,
      "outputs": [
        {
          "output_type": "execute_result",
          "data": {
            "text/plain": [
              "Text(0, 0.5, 'y')"
            ]
          },
          "metadata": {},
          "execution_count": 65
        },
        {
          "output_type": "display_data",
          "data": {
            "text/plain": [
              "<Figure size 432x288 with 1 Axes>"
            ],
            "image/png": "[encoded data removed]"
          },
          "metadata": {
            "needs_background": "light"
          }
        }
      ]
    },
    {
      "cell_type": "markdown",
      "source": [
        "計算信賴區間"
      ],
      "metadata": {
        "id": "XlgVlLBPD4pu"
      }
    },
    {
      "cell_type": "code",
      "source": [
        "est = smf.ols('y ~ x',data).fit()"
      ],
      "metadata": {
        "id": "sx7ojFX8DbXl"
      },
      "execution_count": null,
      "outputs": []
    },
    {
      "cell_type": "code",
      "source": [
        "b0,b1=est.params[0],est.params[1]\n",
        "stderr1,stderr2=est.bse[0],est.bse[1]\n",
        "print(b0)\n",
        "print(b1)\n",
        "print(stderr1)\n",
        "print(stderr2)"
      ],
      "metadata": {
        "colab": {
          "base_uri": "https://localhost:8080/"
        },
        "id": "wtUPaUD1DbU5",
        "outputId": "f6b7bf70-57e6-4df3-b8e1-116a9921c84e"
      },
      "execution_count": null,
      "outputs": [
        {
          "output_type": "stream",
          "name": "stdout",
          "text": [
            "2.8454112672662397\n",
            "-1.9368290953899647\n",
            "0.1212873480940011\n",
            "0.06830724061378206\n"
          ]
        }
      ]
    },
    {
      "cell_type": "markdown",
      "source": [
        "b1信賴區間"
      ],
      "metadata": {
        "id": "SA9gzyfdEf3T"
      }
    },
    {
      "cell_type": "markdown",
      "source": [
        "range(hat(b1)-1.6766 x stdb1,  hat(b1)+1.6766 x stdb1)"
      ],
      "metadata": {
        "id": "pyX62cwWElPr"
      }
    },
    {
      "cell_type": "code",
      "source": [
        "low_b1=b1-1.645*stderr2\n",
        "high_b1=b1+1.645*stderr2\n",
        "print(low_b1)\n",
        "print(high_b1)"
      ],
      "metadata": {
        "colab": {
          "base_uri": "https://localhost:8080/"
        },
        "id": "1U9oVSXzDbSH",
        "outputId": "9139a14a-d2b3-41c3-f7b1-79b393c56d41"
      },
      "execution_count": null,
      "outputs": [
        {
          "output_type": "stream",
          "name": "stdout",
          "text": [
            "-2.0491945061996364\n",
            "-1.8244636845802933\n"
          ]
        }
      ]
    },
    {
      "cell_type": "markdown",
      "source": [
        "信賴區間為為(-2.0491945061996364,-1.8244636845802933)"
      ],
      "metadata": {
        "id": "DFAJsQNmGKpc"
      }
    },
    {
      "cell_type": "markdown",
      "source": [
        "真實的b1=-2包含在信賴區間中"
      ],
      "metadata": {
        "id": "3k5aXYv6GXLL"
      }
    },
    {
      "cell_type": "markdown",
      "source": [
        "# Question 2(信賴區間)"
      ],
      "metadata": {
        "id": "gGghLCm6GfPT"
      }
    },
    {
      "cell_type": "markdown",
      "source": [
        "m=10"
      ],
      "metadata": {
        "id": "kfsKnWG9GuJp"
      }
    },
    {
      "cell_type": "code",
      "source": [
        "m=10\n",
        "n=50\n",
        "y=[]\n",
        "x_data=[]\n",
        "residual_data=[]\n",
        "d=0\n",
        "for i in range(m):\n",
        "  y=[]\n",
        "  x_data=[]\n",
        "  for j in range(n):\n",
        "    residual=random.normal(0,1)\n",
        "    x=random.uniform(-3,3)\n",
        "    data_y=beta_0+beta_1*x+residual\n",
        "    y.append(data_y)\n",
        "    x_data.append(x)\n",
        "  data=pd.DataFrame({'x':x_data,'y':y})\n",
        "  est = smf.ols('y ~ x',data).fit()\n",
        "  low_b1=est.params[1]-1.645*est.bse[1]\n",
        "  high_b1=est.params[1]+1.645*est.bse[1]\n",
        "  if beta_1>low_b1 and beta_1<high_b1:\n",
        "    d+=1\n",
        "  else:\n",
        "    d+=0\n",
        "average_d=d/m\n",
        "average_d"
      ],
      "metadata": {
        "colab": {
          "base_uri": "https://localhost:8080/"
        },
        "id": "xGY_bvy3DbPF",
        "outputId": "a93ab9ef-b042-4fa3-fcf6-ac0b9deb7b3d"
      },
      "execution_count": null,
      "outputs": [
        {
          "output_type": "execute_result",
          "data": {
            "text/plain": [
              "0.8"
            ]
          },
          "metadata": {},
          "execution_count": 71
        }
      ]
    },
    {
      "cell_type": "markdown",
      "source": [
        "m=1000"
      ],
      "metadata": {
        "id": "Vz3iNCx2HlF8"
      }
    },
    {
      "cell_type": "code",
      "source": [
        "m=1000\n",
        "n=50\n",
        "y=[]\n",
        "x_data=[]\n",
        "residual_data=[]\n",
        "d=0\n",
        "for i in range(m):\n",
        "  y=[]\n",
        "  x_data=[]\n",
        "  for j in range(n):\n",
        "    residual=random.normal(0,1)\n",
        "    x=random.uniform(-3,3)\n",
        "    data_y=beta_0+beta_1*x+residual\n",
        "    y.append(data_y)\n",
        "    x_data.append(x)\n",
        "  data=pd.DataFrame({'x':x_data,'y':y})\n",
        "  est = smf.ols('y ~ x',data).fit()\n",
        "  low_b1=est.params[1]-1.645*est.bse[1]\n",
        "  high_b1=est.params[1]+1.645*est.bse[1]\n",
        "  if beta_1>low_b1 and beta_1<high_b1:\n",
        "    d+=1\n",
        "  else:\n",
        "    d+=0\n",
        "average_d=d/m\n",
        "average_d"
      ],
      "metadata": {
        "colab": {
          "base_uri": "https://localhost:8080/"
        },
        "id": "Y7lViFTLDbMJ",
        "outputId": "590add9c-f39c-42ff-9974-7a6f4b0cfd97"
      },
      "execution_count": null,
      "outputs": [
        {
          "output_type": "execute_result",
          "data": {
            "text/plain": [
              "0.894"
            ]
          },
          "metadata": {},
          "execution_count": 72
        }
      ]
    },
    {
      "cell_type": "markdown",
      "source": [
        "m=100000 "
      ],
      "metadata": {
        "id": "oyXuO77mHrMJ"
      }
    },
    {
      "cell_type": "code",
      "source": [
        "m=100000\n",
        "n=50\n",
        "y=[]\n",
        "x_data=[]\n",
        "residual_data=[]\n",
        "d=0\n",
        "for i in range(m):\n",
        "  y=[]\n",
        "  x_data=[]\n",
        "  for j in range(n):\n",
        "    residual=random.normal(0,1)\n",
        "    x=random.uniform(-3,3)\n",
        "    data_y=beta_0+beta_1*x+residual\n",
        "    y.append(data_y)\n",
        "    x_data.append(x)\n",
        "  data=pd.DataFrame({'x':x_data,'y':y})\n",
        "  est = smf.ols('y ~ x',data).fit()\n",
        "  low_b1=est.params[1]-1.645*est.bse[1]\n",
        "  high_b1=est.params[1]+1.645*est.bse[1]\n",
        "  if beta_1>low_b1 and beta_1<high_b1:\n",
        "    d+=1\n",
        "  else:\n",
        "    d+=0\n",
        "average_d=d/m\n",
        "average_d"
      ],
      "metadata": {
        "colab": {
          "base_uri": "https://localhost:8080/"
        },
        "id": "Mey9PFjsDbI2",
        "outputId": "3731ab3b-a200-4d2b-96b7-1d263e5ff68d"
      },
      "execution_count": null,
      "outputs": [
        {
          "output_type": "execute_result",
          "data": {
            "text/plain": [
              "0.89482"
            ]
          },
          "metadata": {},
          "execution_count": 73
        }
      ]
    },
    {
      "cell_type": "markdown",
      "source": [
        "\n",
        "\n",
        "1.   m=10,average_d=0.8\n",
        "2.   m=1000,average_d=0.894\n",
        "3.   m=100000,average_d=0.89482\n",
        "\n",
        "\n",
        "\n",
        "\n",
        "\n",
        "\n",
        "\n",
        "\n",
        "\n",
        "\n",
        "\n"
      ],
      "metadata": {
        "id": "v_TmL6xVIVbP"
      }
    },
    {
      "cell_type": "markdown",
      "source": [
        "# Question 1(檢定)"
      ],
      "metadata": {
        "id": "QIpRvJpR6E_z"
      }
    },
    {
      "cell_type": "code",
      "execution_count": 1,
      "metadata": {
        "id": "EiYuLUccs7bx"
      },
      "outputs": [],
      "source": [
        "import pandas as pd\n",
        "import numpy as np\n",
        "from numpy import random\n",
        "import seaborn as sns\n",
        "beta_0=3\n",
        "beta_1=-2\n",
        "sigma=1\n",
        "n=50\n",
        "\n"
      ]
    },
    {
      "cell_type": "code",
      "source": [
        "y=[]\n",
        "x_data=[]\n",
        "residual_data=[]\n",
        "for i in range(n):\n",
        "  residual=random.normal(0,1)\n",
        "  x=random.uniform(-3,3)\n",
        "  data_y=beta_0+beta_1*x+residual\n",
        "  y.append(data_y)\n",
        "  x_data.append(x)\n",
        "  residual_data.append(residual_data)\n",
        "data=pd.DataFrame({'x':x_data,'y':y})\n",
        "data"
      ],
      "metadata": {
        "colab": {
          "base_uri": "https://localhost:8080/",
          "height": 1000
        },
        "id": "GZv9S4OntWNR",
        "outputId": "edd67df7-5db2-4306-9c50-0ee9c270c9d9"
      },
      "execution_count": 2,
      "outputs": [
        {
          "output_type": "execute_result",
          "data": {
            "text/plain": [
              "           x         y\n",
              "0  -1.773561  8.099823\n",
              "1   2.050826 -1.205594\n",
              "2   2.080158 -0.257444\n",
              "3  -0.389814  4.562490\n",
              "4   0.853510  0.233238\n",
              "5   2.201186 -0.238070\n",
              "6   0.181047  2.537424\n",
              "7   2.461942 -0.959233\n",
              "8   1.584355 -0.338358\n",
              "9   0.358008  1.916753\n",
              "10  0.375825  1.838748\n",
              "11 -2.869670  8.153979\n",
              "12 -0.470969  0.796174\n",
              "13  1.822510 -0.289629\n",
              "14  1.029099  2.298871\n",
              "15 -1.359802  5.262151\n",
              "16 -2.663321  9.001515\n",
              "17  0.353225  2.871709\n",
              "18 -2.229344  6.458202\n",
              "19  2.817776 -3.052625\n",
              "20 -1.411985  5.903805\n",
              "21  2.734602 -4.227870\n",
              "22 -0.820375  4.558831\n",
              "23  0.916085  1.783424\n",
              "24 -2.952047  7.794695\n",
              "25  1.360143  1.521686\n",
              "26  0.221790  2.454329\n",
              "27  0.448003  3.205797\n",
              "28 -2.446710  7.768442\n",
              "29  2.182523 -2.119692\n",
              "30 -1.923588  6.408522\n",
              "31 -0.344450  3.624128\n",
              "32 -0.230871  1.560259\n",
              "33 -2.208353  7.213545\n",
              "34  0.797567  0.699141\n",
              "35 -1.130655  4.789929\n",
              "36 -1.714922  5.951162\n",
              "37 -1.868271  6.447133\n",
              "38  0.454154  3.575845\n",
              "39  0.933497  1.089524\n",
              "40  1.836213 -0.197653\n",
              "41 -1.585446  6.120222\n",
              "42  2.675227 -1.863859\n",
              "43 -0.650081  4.682230\n",
              "44  2.370979 -3.266483\n",
              "45  2.238777 -0.548770\n",
              "46 -1.728936  5.160135\n",
              "47 -0.211548  3.026820\n",
              "48 -0.829572  3.481195\n",
              "49  1.877879 -2.319766"
            ],
            "text/html": [
              "\n",
              "  <div id=\"df-674d3c0c-73e5-440a-875a-0941b358a3d1\">\n",
              "    <div class=\"colab-df-container\">\n",
              "      <div>\n",
              "<style scoped>\n",
              "    .dataframe tbody tr th:only-of-type {\n",
              "        vertical-align: middle;\n",
              "    }\n",
              "\n",
              "    .dataframe tbody tr th {\n",
              "        vertical-align: top;\n",
              "    }\n",
              "\n",
              "    .dataframe thead th {\n",
              "        text-align: right;\n",
              "    }\n",
              "</style>\n",
              "<table border=\"1\" class=\"dataframe\">\n",
              "  <thead>\n",
              "    <tr style=\"text-align: right;\">\n",
              "      <th></th>\n",
              "      <th>x</th>\n",
              "      <th>y</th>\n",
              "    </tr>\n",
              "  </thead>\n",
              "  <tbody>\n",
              "    <tr>\n",
              "      <th>0</th>\n",
              "      <td>-1.773561</td>\n",
              "      <td>8.099823</td>\n",
              "    </tr>\n",
              "    <tr>\n",
              "      <th>1</th>\n",
              "      <td>2.050826</td>\n",
              "      <td>-1.205594</td>\n",
              "    </tr>\n",
              "    <tr>\n",
              "      <th>2</th>\n",
              "      <td>2.080158</td>\n",
              "      <td>-0.257444</td>\n",
              "    </tr>\n",
              "    <tr>\n",
              "      <th>3</th>\n",
              "      <td>-0.389814</td>\n",
              "      <td>4.562490</td>\n",
              "    </tr>\n",
              "    <tr>\n",
              "      <th>4</th>\n",
              "      <td>0.853510</td>\n",
              "      <td>0.233238</td>\n",
              "    </tr>\n",
              "    <tr>\n",
              "      <th>5</th>\n",
              "      <td>2.201186</td>\n",
              "      <td>-0.238070</td>\n",
              "    </tr>\n",
              "    <tr>\n",
              "      <th>6</th>\n",
              "      <td>0.181047</td>\n",
              "      <td>2.537424</td>\n",
              "    </tr>\n",
              "    <tr>\n",
              "      <th>7</th>\n",
              "      <td>2.461942</td>\n",
              "      <td>-0.959233</td>\n",
              "    </tr>\n",
              "    <tr>\n",
              "      <th>8</th>\n",
              "      <td>1.584355</td>\n",
              "      <td>-0.338358</td>\n",
              "    </tr>\n",
              "    <tr>\n",
              "      <th>9</th>\n",
              "      <td>0.358008</td>\n",
              "      <td>1.916753</td>\n",
              "    </tr>\n",
              "    <tr>\n",
              "      <th>10</th>\n",
              "      <td>0.375825</td>\n",
              "      <td>1.838748</td>\n",
              "    </tr>\n",
              "    <tr>\n",
              "      <th>11</th>\n",
              "      <td>-2.869670</td>\n",
              "      <td>8.153979</td>\n",
              "    </tr>\n",
              "    <tr>\n",
              "      <th>12</th>\n",
              "      <td>-0.470969</td>\n",
              "      <td>0.796174</td>\n",
              "    </tr>\n",
              "    <tr>\n",
              "      <th>13</th>\n",
              "      <td>1.822510</td>\n",
              "      <td>-0.289629</td>\n",
              "    </tr>\n",
              "    <tr>\n",
              "      <th>14</th>\n",
              "      <td>1.029099</td>\n",
              "      <td>2.298871</td>\n",
              "    </tr>\n",
              "    <tr>\n",
              "      <th>15</th>\n",
              "      <td>-1.359802</td>\n",
              "      <td>5.262151</td>\n",
              "    </tr>\n",
              "    <tr>\n",
              "      <th>16</th>\n",
              "      <td>-2.663321</td>\n",
              "      <td>9.001515</td>\n",
              "    </tr>\n",
              "    <tr>\n",
              "      <th>17</th>\n",
              "      <td>0.353225</td>\n",
              "      <td>2.871709</td>\n",
              "    </tr>\n",
              "    <tr>\n",
              "      <th>18</th>\n",
              "      <td>-2.229344</td>\n",
              "      <td>6.458202</td>\n",
              "    </tr>\n",
              "    <tr>\n",
              "      <th>19</th>\n",
              "      <td>2.817776</td>\n",
              "      <td>-3.052625</td>\n",
              "    </tr>\n",
              "    <tr>\n",
              "      <th>20</th>\n",
              "      <td>-1.411985</td>\n",
              "      <td>5.903805</td>\n",
              "    </tr>\n",
              "    <tr>\n",
              "      <th>21</th>\n",
              "      <td>2.734602</td>\n",
              "      <td>-4.227870</td>\n",
              "    </tr>\n",
              "    <tr>\n",
              "      <th>22</th>\n",
              "      <td>-0.820375</td>\n",
              "      <td>4.558831</td>\n",
              "    </tr>\n",
              "    <tr>\n",
              "      <th>23</th>\n",
              "      <td>0.916085</td>\n",
              "      <td>1.783424</td>\n",
              "    </tr>\n",
              "    <tr>\n",
              "      <th>24</th>\n",
              "      <td>-2.952047</td>\n",
              "      <td>7.794695</td>\n",
              "    </tr>\n",
              "    <tr>\n",
              "      <th>25</th>\n",
              "      <td>1.360143</td>\n",
              "      <td>1.521686</td>\n",
              "    </tr>\n",
              "    <tr>\n",
              "      <th>26</th>\n",
              "      <td>0.221790</td>\n",
              "      <td>2.454329</td>\n",
              "    </tr>\n",
              "    <tr>\n",
              "      <th>27</th>\n",
              "      <td>0.448003</td>\n",
              "      <td>3.205797</td>\n",
              "    </tr>\n",
              "    <tr>\n",
              "      <th>28</th>\n",
              "      <td>-2.446710</td>\n",
              "      <td>7.768442</td>\n",
              "    </tr>\n",
              "    <tr>\n",
              "      <th>29</th>\n",
              "      <td>2.182523</td>\n",
              "      <td>-2.119692</td>\n",
              "    </tr>\n",
              "    <tr>\n",
              "      <th>30</th>\n",
              "      <td>-1.923588</td>\n",
              "      <td>6.408522</td>\n",
              "    </tr>\n",
              "    <tr>\n",
              "      <th>31</th>\n",
              "      <td>-0.344450</td>\n",
              "      <td>3.624128</td>\n",
              "    </tr>\n",
              "    <tr>\n",
              "      <th>32</th>\n",
              "      <td>-0.230871</td>\n",
              "      <td>1.560259</td>\n",
              "    </tr>\n",
              "    <tr>\n",
              "      <th>33</th>\n",
              "      <td>-2.208353</td>\n",
              "      <td>7.213545</td>\n",
              "    </tr>\n",
              "    <tr>\n",
              "      <th>34</th>\n",
              "      <td>0.797567</td>\n",
              "      <td>0.699141</td>\n",
              "    </tr>\n",
              "    <tr>\n",
              "      <th>35</th>\n",
              "      <td>-1.130655</td>\n",
              "      <td>4.789929</td>\n",
              "    </tr>\n",
              "    <tr>\n",
              "      <th>36</th>\n",
              "      <td>-1.714922</td>\n",
              "      <td>5.951162</td>\n",
              "    </tr>\n",
              "    <tr>\n",
              "      <th>37</th>\n",
              "      <td>-1.868271</td>\n",
              "      <td>6.447133</td>\n",
              "    </tr>\n",
              "    <tr>\n",
              "      <th>38</th>\n",
              "      <td>0.454154</td>\n",
              "      <td>3.575845</td>\n",
              "    </tr>\n",
              "    <tr>\n",
              "      <th>39</th>\n",
              "      <td>0.933497</td>\n",
              "      <td>1.089524</td>\n",
              "    </tr>\n",
              "    <tr>\n",
              "      <th>40</th>\n",
              "      <td>1.836213</td>\n",
              "      <td>-0.197653</td>\n",
              "    </tr>\n",
              "    <tr>\n",
              "      <th>41</th>\n",
              "      <td>-1.585446</td>\n",
              "      <td>6.120222</td>\n",
              "    </tr>\n",
              "    <tr>\n",
              "      <th>42</th>\n",
              "      <td>2.675227</td>\n",
              "      <td>-1.863859</td>\n",
              "    </tr>\n",
              "    <tr>\n",
              "      <th>43</th>\n",
              "      <td>-0.650081</td>\n",
              "      <td>4.682230</td>\n",
              "    </tr>\n",
              "    <tr>\n",
              "      <th>44</th>\n",
              "      <td>2.370979</td>\n",
              "      <td>-3.266483</td>\n",
              "    </tr>\n",
              "    <tr>\n",
              "      <th>45</th>\n",
              "      <td>2.238777</td>\n",
              "      <td>-0.548770</td>\n",
              "    </tr>\n",
              "    <tr>\n",
              "      <th>46</th>\n",
              "      <td>-1.728936</td>\n",
              "      <td>5.160135</td>\n",
              "    </tr>\n",
              "    <tr>\n",
              "      <th>47</th>\n",
              "      <td>-0.211548</td>\n",
              "      <td>3.026820</td>\n",
              "    </tr>\n",
              "    <tr>\n",
              "      <th>48</th>\n",
              "      <td>-0.829572</td>\n",
              "      <td>3.481195</td>\n",
              "    </tr>\n",
              "    <tr>\n",
              "      <th>49</th>\n",
              "      <td>1.877879</td>\n",
              "      <td>-2.319766</td>\n",
              "    </tr>\n",
              "  </tbody>\n",
              "</table>\n",
              "</div>\n",
              "      <button class=\"colab-df-convert\" onclick=\"convertToInteractive('df-674d3c0c-73e5-440a-875a-0941b358a3d1')\"\n",
              "              title=\"Convert this dataframe to an interactive table.\"\n",
              "              style=\"display:none;\">\n",
              "        \n",
              "  <svg xmlns=\"http://www.w3.org/2000/svg\" height=\"24px\"viewBox=\"0 0 24 24\"\n",
              "       width=\"24px\">\n",
              "    <path d=\"M0 0h24v24H0V0z\" fill=\"none\"/>\n",
              "    <path d=\"M18.56 5.44l.94 2.06.94-2.06 2.06-.94-2.06-.94-.94-2.06-.94 2.06-2.06.94zm-11 1L8.5 8.5l.94-2.06 2.06-.94-2.06-.94L8.5 2.5l-.94 2.06-2.06.94zm10 10l.94 2.06.94-2.06 2.06-.94-2.06-.94-.94-2.06-.94 2.06-2.06.94z\"/><path d=\"M17.41 7.96l-1.37-1.37c-.4-.4-.92-.59-1.43-.59-.52 0-1.04.2-1.43.59L10.3 9.45l-7.72 7.72c-.78.78-.78 2.05 0 2.83L4 21.41c.39.39.9.59 1.41.59.51 0 1.02-.2 1.41-.59l7.78-7.78 2.81-2.81c.8-.78.8-2.07 0-2.86zM5.41 20L4 18.59l7.72-7.72 1.47 1.35L5.41 20z\"/>\n",
              "  </svg>\n",
              "      </button>\n",
              "      \n",
              "  <style>\n",
              "    .colab-df-container {\n",
              "      display:flex;\n",
              "      flex-wrap:wrap;\n",
              "      gap: 12px;\n",
              "    }\n",
              "\n",
              "    .colab-df-convert {\n",
              "      background-color: #E8F0FE;\n",
              "      border: none;\n",
              "      border-radius: 50%;\n",
              "      cursor: pointer;\n",
              "      display: none;\n",
              "      fill: #1967D2;\n",
              "      height: 32px;\n",
              "      padding: 0 0 0 0;\n",
              "      width: 32px;\n",
              "    }\n",
              "\n",
              "    .colab-df-convert:hover {\n",
              "      background-color: #E2EBFA;\n",
              "      box-shadow: 0px 1px 2px rgba(60, 64, 67, 0.3), 0px 1px 3px 1px rgba(60, 64, 67, 0.15);\n",
              "      fill: #174EA6;\n",
              "    }\n",
              "\n",
              "    [theme=dark] .colab-df-convert {\n",
              "      background-color: #3B4455;\n",
              "      fill: #D2E3FC;\n",
              "    }\n",
              "\n",
              "    [theme=dark] .colab-df-convert:hover {\n",
              "      background-color: #434B5C;\n",
              "      box-shadow: 0px 1px 3px 1px rgba(0, 0, 0, 0.15);\n",
              "      filter: drop-shadow(0px 1px 2px rgba(0, 0, 0, 0.3));\n",
              "      fill: #FFFFFF;\n",
              "    }\n",
              "  </style>\n",
              "\n",
              "      <script>\n",
              "        const buttonEl =\n",
              "          document.querySelector('#df-674d3c0c-73e5-440a-875a-0941b358a3d1 button.colab-df-convert');\n",
              "        buttonEl.style.display =\n",
              "          google.colab.kernel.accessAllowed ? 'block' : 'none';\n",
              "\n",
              "        async function convertToInteractive(key) {\n",
              "          const element = document.querySelector('#df-674d3c0c-73e5-440a-875a-0941b358a3d1');\n",
              "          const dataTable =\n",
              "            await google.colab.kernel.invokeFunction('convertToInteractive',\n",
              "                                                     [key], {});\n",
              "          if (!dataTable) return;\n",
              "\n",
              "          const docLinkHtml = 'Like what you see? Visit the ' +\n",
              "            '<a target=\"_blank\" href=https://colab.research.google.com/notebooks/data_table.ipynb>data table notebook</a>'\n",
              "            + ' to learn more about interactive tables.';\n",
              "          element.innerHTML = '';\n",
              "          dataTable['output_type'] = 'display_data';\n",
              "          await google.colab.output.renderOutput(dataTable, element);\n",
              "          const docLink = document.createElement('div');\n",
              "          docLink.innerHTML = docLinkHtml;\n",
              "          element.appendChild(docLink);\n",
              "        }\n",
              "      </script>\n",
              "    </div>\n",
              "  </div>\n",
              "  "
            ]
          },
          "metadata": {},
          "execution_count": 2
        }
      ]
    },
    {
      "cell_type": "code",
      "source": [
        "import matplotlib.pyplot as plt\n",
        "sns.regplot(x=x_data,y=y,order=1,ci=None, scatter_kws={'color':'r', 's':9})\n",
        "plt.xlabel('x')\n",
        "plt.ylabel('y')"
      ],
      "metadata": {
        "colab": {
          "base_uri": "https://localhost:8080/",
          "height": 297
        },
        "id": "9IBGWPgeumjd",
        "outputId": "7d4830c0-aa6f-44cc-f104-9c8fd1d78f8b"
      },
      "execution_count": 3,
      "outputs": [
        {
          "output_type": "execute_result",
          "data": {
            "text/plain": [
              "Text(0, 0.5, 'y')"
            ]
          },
          "metadata": {},
          "execution_count": 3
        },
        {
          "output_type": "display_data",
          "data": {
            "text/plain": [
              "<Figure size 432x288 with 1 Axes>"
            ],
            "image/png": "[encoded data removed]"
          },
          "metadata": {
            "needs_background": "light"
          }
        }
      ]
    },
    {
      "cell_type": "markdown",
      "source": [
        "regression"
      ],
      "metadata": {
        "id": "F8E6-sTAvtoV"
      }
    },
    {
      "cell_type": "code",
      "source": [
        "import statsmodels.api as sm\n",
        "import statsmodels.formula.api as smf"
      ],
      "metadata": {
        "id": "mCXUxZw1wHF3"
      },
      "execution_count": 4,
      "outputs": []
    },
    {
      "cell_type": "code",
      "source": [
        "est = smf.ols('y ~ x',data).fit()"
      ],
      "metadata": {
        "id": "plkr8UXnyQb0"
      },
      "execution_count": 5,
      "outputs": []
    },
    {
      "cell_type": "code",
      "source": [
        "est.bse[1]"
      ],
      "metadata": {
        "colab": {
          "base_uri": "https://localhost:8080/"
        },
        "id": "_s5yATVp0xmq",
        "outputId": "6e59819f-eaf3-4541-fa92-de50a8486efc"
      },
      "execution_count": 6,
      "outputs": [
        {
          "output_type": "execute_result",
          "data": {
            "text/plain": [
              "0.0806117861354589"
            ]
          },
          "metadata": {},
          "execution_count": 6
        }
      ]
    },
    {
      "cell_type": "code",
      "source": [
        "b0,b1=est.params[0],est.params[1]\n",
        "stderr1,stderr2=est.bse[0],est.bse[1]\n",
        "print(b0)\n",
        "print(b1)\n",
        "print(stderr1)\n",
        "print(stderr2)"
      ],
      "metadata": {
        "colab": {
          "base_uri": "https://localhost:8080/"
        },
        "id": "Udqdhmqb2bNg",
        "outputId": "59b53894-78e4-4810-c4d6-bc232c1cb77a"
      },
      "execution_count": 7,
      "outputs": [
        {
          "output_type": "stream",
          "name": "stdout",
          "text": [
            "2.8459699895614685\n",
            "-1.9123449912856798\n",
            "0.13640304333268205\n",
            "0.0806117861354589\n"
          ]
        }
      ]
    },
    {
      "cell_type": "markdown",
      "source": [
        "統計檢定流程"
      ],
      "metadata": {
        "id": "cfadf5fD3UWH"
      }
    },
    {
      "cell_type": "markdown",
      "source": [
        "H0 : β1 = − 2 v.s. H1 : β1 ≠ − 2 α = 10 %"
      ],
      "metadata": {
        "id": "6lF1RIM63bhc"
      }
    },
    {
      "cell_type": "markdown",
      "source": [
        "test statistic of b1=hat(b1)/std(b1)服從標準常態分配(平均數=0，標準差=1平均數=0，標準差=1)\n"
      ],
      "metadata": {
        "id": "3oqYjXjh3pEe"
      }
    },
    {
      "cell_type": "code",
      "source": [
        "test_statistic_of_b1=(b1+2)/stderr2\n",
        "test_statistic_of_b1"
      ],
      "metadata": {
        "colab": {
          "base_uri": "https://localhost:8080/"
        },
        "id": "xmKGpLbi3azm",
        "outputId": "455ca182-c403-4ec3-92b9-429c965ae863"
      },
      "execution_count": 8,
      "outputs": [
        {
          "output_type": "execute_result",
          "data": {
            "text/plain": [
              "1.08737211909715"
            ]
          },
          "metadata": {},
          "execution_count": 8
        }
      ]
    },
    {
      "cell_type": "markdown",
      "source": [
        "在顯著水準10%下(n=50)t值臨界點為+-1.645"
      ],
      "metadata": {
        "id": "Ghy-0Iij4Ml_"
      }
    },
    {
      "cell_type": "markdown",
      "source": [
        "故檢定統計量1.08737211909715< 1.645，故不拒絕虛無假設H0 : β1 = − 2\n",
        "\n",
        "\n",
        "\n"
      ],
      "metadata": {
        "id": "D8XY3Xch48c3"
      }
    },
    {
      "cell_type": "markdown",
      "source": [
        "# Question 2(檢定)"
      ],
      "metadata": {
        "id": "jwfmcli65-yo"
      }
    },
    {
      "cell_type": "markdown",
      "source": [
        "Complete the table with with the following steps"
      ],
      "metadata": {
        "id": "miymnXgn6hj_"
      }
    },
    {
      "cell_type": "markdown",
      "source": [
        "m = 10, 1000, 100,000\n",
        "For j = 1 : m\n",
        "1. Generate from the regression model:\n",
        "2. With data , calculate and implement\n",
        " (with ).\n",
        "3. Set if you reject in the above step."
      ],
      "metadata": {
        "id": "e1sqCHpn6lKj"
      }
    },
    {
      "cell_type": "markdown",
      "source": [
        "m=10"
      ],
      "metadata": {
        "id": "-ba3TyWa7HV4"
      }
    },
    {
      "cell_type": "code",
      "source": [
        "m=10\n",
        "n=50\n",
        "y=[]\n",
        "x_data=[]\n",
        "residual_data=[]\n",
        "d=0\n",
        "for i in range(m):\n",
        "  y=[]\n",
        "  x_data=[]\n",
        "  for j in range(n):\n",
        "    residual=random.normal(0,1)\n",
        "    x=random.uniform(-3,3)\n",
        "    data_y=beta_0+beta_1*x+residual\n",
        "    y.append(data_y)\n",
        "    x_data.append(x)\n",
        "  data=pd.DataFrame({'x':x_data,'y':y})\n",
        "  est = smf.ols('y ~ x',data).fit()\n",
        "  test_statistic_of_b1=(est.params[1]+2)/est.bse[1]\n",
        "  print(test_statistic_of_b1)\n",
        "  if test_statistic_of_b1<-1.645 or test_statistic_of_b1>1.645 :\n",
        "    d+=1\n",
        "  else:\n",
        "    d+=0\n",
        "average_d=d/m\n",
        "average_d\n"
      ],
      "metadata": {
        "colab": {
          "base_uri": "https://localhost:8080/"
        },
        "id": "FEdAM97L5jF-",
        "outputId": "6dcb3e2f-0790-4774-d56d-11c9566f0549"
      },
      "execution_count": 9,
      "outputs": [
        {
          "output_type": "stream",
          "name": "stdout",
          "text": [
            "-0.48618773420577976\n",
            "-0.4417595004237305\n",
            "0.25538026157072824\n",
            "-0.5955369285745845\n",
            "0.08932320802753137\n",
            "0.3963199117218858\n",
            "0.11344132232142141\n",
            "0.22364734535620628\n",
            "0.45301094185402696\n",
            "1.2520096709778608\n"
          ]
        },
        {
          "output_type": "execute_result",
          "data": {
            "text/plain": [
              "0.0"
            ]
          },
          "metadata": {},
          "execution_count": 9
        }
      ]
    },
    {
      "cell_type": "markdown",
      "source": [
        "m=1000"
      ],
      "metadata": {
        "id": "inzwgFql-ohz"
      }
    },
    {
      "cell_type": "code",
      "source": [
        "m=1000\n",
        "n=50\n",
        "y=[]\n",
        "x_data=[]\n",
        "residual_data=[]\n",
        "d=0\n",
        "for i in range(m):\n",
        "  y=[]\n",
        "  x_data=[]\n",
        "  for j in range(n):\n",
        "    residual=random.normal(0,1)\n",
        "    x=random.uniform(-3,3)\n",
        "    data_y=beta_0+beta_1*x+residual\n",
        "    y.append(data_y)\n",
        "    x_data.append(x)\n",
        "  data=pd.DataFrame({'x':x_data,'y':y})\n",
        "  est = smf.ols('y ~ x',data).fit()\n",
        "  test_statistic_of_b1=(est.params[1]+2)/est.bse[1]\n",
        "  if test_statistic_of_b1<-1.645 or test_statistic_of_b1>1.645:\n",
        "    d+=1\n",
        "  else:\n",
        "    d+=0\n",
        "average_d=d/m\n",
        "average_d"
      ],
      "metadata": {
        "colab": {
          "base_uri": "https://localhost:8080/"
        },
        "id": "hukYBt_S-q_7",
        "outputId": "ac67e9ca-6319-415c-e691-e70e6fb4ae07"
      },
      "execution_count": 11,
      "outputs": [
        {
          "output_type": "execute_result",
          "data": {
            "text/plain": [
              "0.108"
            ]
          },
          "metadata": {},
          "execution_count": 11
        }
      ]
    },
    {
      "cell_type": "markdown",
      "source": [
        "m=100000"
      ],
      "metadata": {
        "id": "qkBeItCa_VlJ"
      }
    },
    {
      "cell_type": "code",
      "source": [
        "m=100000\n",
        "n=50\n",
        "y=[]\n",
        "x_data=[]\n",
        "residual_data=[]\n",
        "d=0\n",
        "for i in range(m):\n",
        "  y=[]\n",
        "  x_data=[]\n",
        "  for j in range(n):\n",
        "    residual=random.normal(0,1)\n",
        "    x=random.uniform(-3,3)\n",
        "    data_y=beta_0+beta_1*x+residual\n",
        "    y.append(data_y)\n",
        "    x_data.append(x)\n",
        "  data=pd.DataFrame({'x':x_data,'y':y})\n",
        "  est = smf.ols('y ~ x',data).fit()\n",
        "  test_statistic_of_b1=(est.params[1]+2)/est.bse[1]\n",
        "  if test_statistic_of_b1<-1.645 or test_statistic_of_b1>1.645:\n",
        "    d+=1\n",
        "  else:\n",
        "    d+=0\n",
        "average_d=d/m\n",
        "average_d"
      ],
      "metadata": {
        "colab": {
          "base_uri": "https://localhost:8080/"
        },
        "id": "jeg5POpa_Ogn",
        "outputId": "8a2b020e-3255-40f9-d8b6-544a3b64d621"
      },
      "execution_count": 12,
      "outputs": [
        {
          "output_type": "execute_result",
          "data": {
            "text/plain": [
              "0.10574"
            ]
          },
          "metadata": {},
          "execution_count": 12
        }
      ]
    },
    {
      "cell_type": "markdown",
      "source": [
        "1.   m=10,average_d=0.0 \n",
        "2.   m=1000,average_d=0.108\n",
        "3.   m=100000,average_d=0.10574\n"
      ],
      "metadata": {
        "id": "SEoF9bhFI7Fs"
      }
    }
  ]
}