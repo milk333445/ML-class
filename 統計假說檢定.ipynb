{
  "nbformat": 4,
  "nbformat_minor": 0,
  "metadata": {
    "colab": {
      "provenance": []
    },
    "kernelspec": {
      "name": "python3",
      "display_name": "Python 3"
    },
    "language_info": {
      "name": "python"
    }
  },
  "cells": [
    {
      "cell_type": "markdown",
      "source": [
        "# Question 1(信賴區間)"
      ],
      "metadata": {
        "id": "QWCApUaLDc44"
      }
    },
    {
      "cell_type": "code",
      "source": [
        "import pandas as pd\n",
        "import numpy as np\n",
        "from numpy import random\n",
        "import seaborn as sns\n",
        "beta_0=3\n",
        "beta_1=-2\n",
        "sigma=1\n",
        "n=50"
      ],
      "metadata": {
        "id": "e7jriwuJDbh2"
      },
      "execution_count": 63,
      "outputs": []
    },
    {
      "cell_type": "code",
      "source": [
        "y=[]\n",
        "x_data=[]\n",
        "residual_data=[]\n",
        "for i in range(n):\n",
        "  residual=random.normal(0,1)\n",
        "  x=random.uniform(-3,3)\n",
        "  data_y=beta_0+beta_1*x+residual\n",
        "  y.append(data_y)\n",
        "  x_data.append(x)\n",
        "  residual_data.append(residual_data)\n",
        "data=pd.DataFrame({'x':x_data,'y':y})\n",
        "data"
      ],
      "metadata": {
        "id": "407tLApcDbfX"
      },
      "execution_count": null,
      "outputs": []
    },
    {
      "cell_type": "code",
      "source": [
        "import matplotlib.pyplot as plt\n",
        "sns.regplot(x=x_data,y=y,order=1,ci=None, scatter_kws={'color':'r', 's':9})\n",
        "plt.xlabel('x')\n",
        "plt.ylabel('y')"
      ],
      "metadata": {
        "colab": {
          "base_uri": "https://localhost:8080/",
          "height": 297
        },
        "id": "SqxgG5hxDbaQ",
        "outputId": "a0dcb97c-8dc9-47f3-d408-95ac9a9fd393"
      },
      "execution_count": 65,
      "outputs": [
        {
          "output_type": "execute_result",
          "data": {
            "text/plain": [
              "Text(0, 0.5, 'y')"
            ]
          },
          "metadata": {},
          "execution_count": 65
        },
        {
          "output_type": "display_data",
          "data": {
            "text/plain": [
              "<Figure size 432x288 with 1 Axes>"
            ],
            "image/png": "[encoded data removed]"
          },
          "metadata": {
            "needs_background": "light"
          }
        }
      ]
    },
    {
      "cell_type": "markdown",
      "source": [
        "計算信賴區間"
      ],
      "metadata": {
        "id": "XlgVlLBPD4pu"
      }
    },
    {
      "cell_type": "code",
      "source": [
        "est = smf.ols('y ~ x',data).fit()"
      ],
      "metadata": {
        "id": "sx7ojFX8DbXl"
      },
      "execution_count": null,
      "outputs": []
    },
    {
      "cell_type": "code",
      "source": [
        "b0,b1=est.params[0],est.params[1]\n",
        "stderr1,stderr2=est.bse[0],est.bse[1]\n",
        "print(b0)\n",
        "print(b1)\n",
        "print(stderr1)\n",
        "print(stderr2)"
      ],
      "metadata": {
        "colab": {
          "base_uri": "https://localhost:8080/"
        },
        "id": "wtUPaUD1DbU5",
        "outputId": "f6b7bf70-57e6-4df3-b8e1-116a9921c84e"
      },
      "execution_count": 67,
      "outputs": [
        {
          "output_type": "stream",
          "name": "stdout",
          "text": [
            "2.8454112672662397\n",
            "-1.9368290953899647\n",
            "0.1212873480940011\n",
            "0.06830724061378206\n"
          ]
        }
      ]
    },
    {
      "cell_type": "markdown",
      "source": [
        "b1信賴區間"
      ],
      "metadata": {
        "id": "SA9gzyfdEf3T"
      }
    },
    {
      "cell_type": "markdown",
      "source": [
        "range(hat(b1)-1.6766 x stdb1,  hat(b1)+1.6766 x stdb1)"
      ],
      "metadata": {
        "id": "pyX62cwWElPr"
      }
    },
    {
      "cell_type": "code",
      "source": [
        "low_b1=b1-1.645*stderr2\n",
        "high_b1=b1+1.645*stderr2\n",
        "print(low_b1)\n",
        "print(high_b1)"
      ],
      "metadata": {
        "colab": {
          "base_uri": "https://localhost:8080/"
        },
        "id": "1U9oVSXzDbSH",
        "outputId": "9139a14a-d2b3-41c3-f7b1-79b393c56d41"
      },
      "execution_count": 69,
      "outputs": [
        {
          "output_type": "stream",
          "name": "stdout",
          "text": [
            "-2.0491945061996364\n",
            "-1.8244636845802933\n"
          ]
        }
      ]
    },
    {
      "cell_type": "markdown",
      "source": [
        "信賴區間為為(-2.0491945061996364,-1.8244636845802933)"
      ],
      "metadata": {
        "id": "DFAJsQNmGKpc"
      }
    },
    {
      "cell_type": "markdown",
      "source": [
        "真實的b1=-2包含在信賴區間中"
      ],
      "metadata": {
        "id": "3k5aXYv6GXLL"
      }
    },
    {
      "cell_type": "markdown",
      "source": [
        "# Question 2(信賴區間)"
      ],
      "metadata": {
        "id": "gGghLCm6GfPT"
      }
    },
    {
      "cell_type": "markdown",
      "source": [
        "m=10"
      ],
      "metadata": {
        "id": "kfsKnWG9GuJp"
      }
    },
    {
      "cell_type": "code",
      "source": [
        "m=10\n",
        "n=50\n",
        "y=[]\n",
        "x_data=[]\n",
        "residual_data=[]\n",
        "d=0\n",
        "for i in range(m):\n",
        "  y=[]\n",
        "  x_data=[]\n",
        "  for j in range(n):\n",
        "    residual=random.normal(0,1)\n",
        "    x=random.uniform(-3,3)\n",
        "    data_y=beta_0+beta_1*x+residual\n",
        "    y.append(data_y)\n",
        "    x_data.append(x)\n",
        "  data=pd.DataFrame({'x':x_data,'y':y})\n",
        "  est = smf.ols('y ~ x',data).fit()\n",
        "  low_b1=est.params[1]-1.645*est.bse[1]\n",
        "  high_b1=est.params[1]+1.645*est.bse[1]\n",
        "  if beta_1>low_b1 and beta_1<high_b1:\n",
        "    d+=1\n",
        "  else:\n",
        "    d+=0\n",
        "average_d=d/m\n",
        "average_d"
      ],
      "metadata": {
        "colab": {
          "base_uri": "https://localhost:8080/"
        },
        "id": "xGY_bvy3DbPF",
        "outputId": "a93ab9ef-b042-4fa3-fcf6-ac0b9deb7b3d"
      },
      "execution_count": 71,
      "outputs": [
        {
          "output_type": "execute_result",
          "data": {
            "text/plain": [
              "0.8"
            ]
          },
          "metadata": {},
          "execution_count": 71
        }
      ]
    },
    {
      "cell_type": "markdown",
      "source": [
        "m=1000"
      ],
      "metadata": {
        "id": "Vz3iNCx2HlF8"
      }
    },
    {
      "cell_type": "code",
      "source": [
        "m=1000\n",
        "n=50\n",
        "y=[]\n",
        "x_data=[]\n",
        "residual_data=[]\n",
        "d=0\n",
        "for i in range(m):\n",
        "  y=[]\n",
        "  x_data=[]\n",
        "  for j in range(n):\n",
        "    residual=random.normal(0,1)\n",
        "    x=random.uniform(-3,3)\n",
        "    data_y=beta_0+beta_1*x+residual\n",
        "    y.append(data_y)\n",
        "    x_data.append(x)\n",
        "  data=pd.DataFrame({'x':x_data,'y':y})\n",
        "  est = smf.ols('y ~ x',data).fit()\n",
        "  low_b1=est.params[1]-1.645*est.bse[1]\n",
        "  high_b1=est.params[1]+1.645*est.bse[1]\n",
        "  if beta_1>low_b1 and beta_1<high_b1:\n",
        "    d+=1\n",
        "  else:\n",
        "    d+=0\n",
        "average_d=d/m\n",
        "average_d"
      ],
      "metadata": {
        "colab": {
          "base_uri": "https://localhost:8080/"
        },
        "id": "Y7lViFTLDbMJ",
        "outputId": "590add9c-f39c-42ff-9974-7a6f4b0cfd97"
      },
      "execution_count": 72,
      "outputs": [
        {
          "output_type": "execute_result",
          "data": {
            "text/plain": [
              "0.894"
            ]
          },
          "metadata": {},
          "execution_count": 72
        }
      ]
    },
    {
      "cell_type": "markdown",
      "source": [
        "m=100000 "
      ],
      "metadata": {
        "id": "oyXuO77mHrMJ"
      }
    },
    {
      "cell_type": "code",
      "source": [
        "m=100000\n",
        "n=50\n",
        "y=[]\n",
        "x_data=[]\n",
        "residual_data=[]\n",
        "d=0\n",
        "for i in range(m):\n",
        "  y=[]\n",
        "  x_data=[]\n",
        "  for j in range(n):\n",
        "    residual=random.normal(0,1)\n",
        "    x=random.uniform(-3,3)\n",
        "    data_y=beta_0+beta_1*x+residual\n",
        "    y.append(data_y)\n",
        "    x_data.append(x)\n",
        "  data=pd.DataFrame({'x':x_data,'y':y})\n",
        "  est = smf.ols('y ~ x',data).fit()\n",
        "  low_b1=est.params[1]-1.645*est.bse[1]\n",
        "  high_b1=est.params[1]+1.645*est.bse[1]\n",
        "  if beta_1>low_b1 and beta_1<high_b1:\n",
        "    d+=1\n",
        "  else:\n",
        "    d+=0\n",
        "average_d=d/m\n",
        "average_d"
      ],
      "metadata": {
        "colab": {
          "base_uri": "https://localhost:8080/"
        },
        "id": "Mey9PFjsDbI2",
        "outputId": "3731ab3b-a200-4d2b-96b7-1d263e5ff68d"
      },
      "execution_count": 73,
      "outputs": [
        {
          "output_type": "execute_result",
          "data": {
            "text/plain": [
              "0.89482"
            ]
          },
          "metadata": {},
          "execution_count": 73
        }
      ]
    },
    {
      "cell_type": "markdown",
      "source": [
        "\n",
        "\n",
        "1.   m=10,average_d=0.8\n",
        "2.   m=1000,average_d=0.894\n",
        "3.   m=100000,average_d=0.89482\n",
        "\n",
        "\n",
        "\n",
        "\n",
        "\n",
        "\n",
        "\n",
        "\n",
        "\n",
        "\n",
        "\n"
      ],
      "metadata": {
        "id": "v_TmL6xVIVbP"
      }
    },
    {
      "cell_type": "markdown",
      "source": [
        "# Question 1(檢定)"
      ],
      "metadata": {
        "id": "QIpRvJpR6E_z"
      }
    },
    {
      "cell_type": "code",
      "execution_count": 74,
      "metadata": {
        "id": "EiYuLUccs7bx"
      },
      "outputs": [],
      "source": [
        "import pandas as pd\n",
        "import numpy as np\n",
        "from numpy import random\n",
        "import seaborn as sns\n",
        "beta_0=3\n",
        "beta_1=-2\n",
        "sigma=1\n",
        "n=50\n",
        "\n"
      ]
    },
    {
      "cell_type": "code",
      "source": [
        "y=[]\n",
        "x_data=[]\n",
        "residual_data=[]\n",
        "for i in range(n):\n",
        "  residual=random.normal(0,1)\n",
        "  x=random.uniform(-3,3)\n",
        "  data_y=beta_0+beta_1*x+residual\n",
        "  y.append(data_y)\n",
        "  x_data.append(x)\n",
        "  residual_data.append(residual_data)\n",
        "data=pd.DataFrame({'x':x_data,'y':y})\n",
        "data"
      ],
      "metadata": {
        "colab": {
          "base_uri": "https://localhost:8080/",
          "height": 1000
        },
        "id": "GZv9S4OntWNR",
        "outputId": "201d3fd0-9d64-4969-d9fe-be61acf38d97"
      },
      "execution_count": 75,
      "outputs": [
        {
          "output_type": "execute_result",
          "data": {
            "text/plain": [
              "           x         y\n",
              "0  -2.922126  9.650360\n",
              "1  -2.460996  7.406712\n",
              "2  -0.038017  4.424663\n",
              "3   2.979696 -3.932553\n",
              "4   2.803472 -1.227131\n",
              "5  -2.425545  8.151572\n",
              "6   0.969414  1.005415\n",
              "7  -2.507411  8.597707\n",
              "8   0.455949  2.591520\n",
              "9  -0.438772  5.407499\n",
              "10 -1.915717  5.855963\n",
              "11  2.844112 -3.265671\n",
              "12  1.286493 -0.662007\n",
              "13  1.357695  0.424218\n",
              "14  2.922209 -1.538390\n",
              "15 -2.700084  7.847671\n",
              "16 -1.094831  5.783947\n",
              "17 -0.563347  1.971145\n",
              "18 -0.733049  4.595032\n",
              "19 -1.258096  6.378360\n",
              "20  0.767587  2.089219\n",
              "21  2.345168 -1.368402\n",
              "22 -1.431227  6.095856\n",
              "23  0.946992 -0.612871\n",
              "24  2.265683 -1.602735\n",
              "25  0.267021  4.741653\n",
              "26  0.681699  3.809531\n",
              "27 -0.230068  3.174335\n",
              "28 -0.676710  3.573502\n",
              "29 -2.290176  9.176052\n",
              "30  2.592497 -0.467341\n",
              "31  1.392709  0.186867\n",
              "32 -1.256340  6.355124\n",
              "33 -2.270477  9.620507\n",
              "34 -0.420944  2.652331\n",
              "35  2.474957 -1.533501\n",
              "36 -1.130048  4.914935\n",
              "37 -0.077648  2.584851\n",
              "38  2.028019 -1.208729\n",
              "39 -0.431298  4.448175\n",
              "40 -1.863966  7.531595\n",
              "41 -1.849536  6.714584\n",
              "42 -0.614400  6.264818\n",
              "43  2.340451 -0.622049\n",
              "44 -2.427507  8.376876\n",
              "45 -1.610111  6.295598\n",
              "46  1.628049  0.256184\n",
              "47  1.691381  0.124110\n",
              "48 -2.329781  8.158821\n",
              "49  1.053558  1.372734"
            ],
            "text/html": [
              "\n",
              "  <div id=\"df-1d3c364a-3108-4981-821e-4d15e43aec86\">\n",
              "    <div class=\"colab-df-container\">\n",
              "      <div>\n",
              "<style scoped>\n",
              "    .dataframe tbody tr th:only-of-type {\n",
              "        vertical-align: middle;\n",
              "    }\n",
              "\n",
              "    .dataframe tbody tr th {\n",
              "        vertical-align: top;\n",
              "    }\n",
              "\n",
              "    .dataframe thead th {\n",
              "        text-align: right;\n",
              "    }\n",
              "</style>\n",
              "<table border=\"1\" class=\"dataframe\">\n",
              "  <thead>\n",
              "    <tr style=\"text-align: right;\">\n",
              "      <th></th>\n",
              "      <th>x</th>\n",
              "      <th>y</th>\n",
              "    </tr>\n",
              "  </thead>\n",
              "  <tbody>\n",
              "    <tr>\n",
              "      <th>0</th>\n",
              "      <td>-2.922126</td>\n",
              "      <td>9.650360</td>\n",
              "    </tr>\n",
              "    <tr>\n",
              "      <th>1</th>\n",
              "      <td>-2.460996</td>\n",
              "      <td>7.406712</td>\n",
              "    </tr>\n",
              "    <tr>\n",
              "      <th>2</th>\n",
              "      <td>-0.038017</td>\n",
              "      <td>4.424663</td>\n",
              "    </tr>\n",
              "    <tr>\n",
              "      <th>3</th>\n",
              "      <td>2.979696</td>\n",
              "      <td>-3.932553</td>\n",
              "    </tr>\n",
              "    <tr>\n",
              "      <th>4</th>\n",
              "      <td>2.803472</td>\n",
              "      <td>-1.227131</td>\n",
              "    </tr>\n",
              "    <tr>\n",
              "      <th>5</th>\n",
              "      <td>-2.425545</td>\n",
              "      <td>8.151572</td>\n",
              "    </tr>\n",
              "    <tr>\n",
              "      <th>6</th>\n",
              "      <td>0.969414</td>\n",
              "      <td>1.005415</td>\n",
              "    </tr>\n",
              "    <tr>\n",
              "      <th>7</th>\n",
              "      <td>-2.507411</td>\n",
              "      <td>8.597707</td>\n",
              "    </tr>\n",
              "    <tr>\n",
              "      <th>8</th>\n",
              "      <td>0.455949</td>\n",
              "      <td>2.591520</td>\n",
              "    </tr>\n",
              "    <tr>\n",
              "      <th>9</th>\n",
              "      <td>-0.438772</td>\n",
              "      <td>5.407499</td>\n",
              "    </tr>\n",
              "    <tr>\n",
              "      <th>10</th>\n",
              "      <td>-1.915717</td>\n",
              "      <td>5.855963</td>\n",
              "    </tr>\n",
              "    <tr>\n",
              "      <th>11</th>\n",
              "      <td>2.844112</td>\n",
              "      <td>-3.265671</td>\n",
              "    </tr>\n",
              "    <tr>\n",
              "      <th>12</th>\n",
              "      <td>1.286493</td>\n",
              "      <td>-0.662007</td>\n",
              "    </tr>\n",
              "    <tr>\n",
              "      <th>13</th>\n",
              "      <td>1.357695</td>\n",
              "      <td>0.424218</td>\n",
              "    </tr>\n",
              "    <tr>\n",
              "      <th>14</th>\n",
              "      <td>2.922209</td>\n",
              "      <td>-1.538390</td>\n",
              "    </tr>\n",
              "    <tr>\n",
              "      <th>15</th>\n",
              "      <td>-2.700084</td>\n",
              "      <td>7.847671</td>\n",
              "    </tr>\n",
              "    <tr>\n",
              "      <th>16</th>\n",
              "      <td>-1.094831</td>\n",
              "      <td>5.783947</td>\n",
              "    </tr>\n",
              "    <tr>\n",
              "      <th>17</th>\n",
              "      <td>-0.563347</td>\n",
              "      <td>1.971145</td>\n",
              "    </tr>\n",
              "    <tr>\n",
              "      <th>18</th>\n",
              "      <td>-0.733049</td>\n",
              "      <td>4.595032</td>\n",
              "    </tr>\n",
              "    <tr>\n",
              "      <th>19</th>\n",
              "      <td>-1.258096</td>\n",
              "      <td>6.378360</td>\n",
              "    </tr>\n",
              "    <tr>\n",
              "      <th>20</th>\n",
              "      <td>0.767587</td>\n",
              "      <td>2.089219</td>\n",
              "    </tr>\n",
              "    <tr>\n",
              "      <th>21</th>\n",
              "      <td>2.345168</td>\n",
              "      <td>-1.368402</td>\n",
              "    </tr>\n",
              "    <tr>\n",
              "      <th>22</th>\n",
              "      <td>-1.431227</td>\n",
              "      <td>6.095856</td>\n",
              "    </tr>\n",
              "    <tr>\n",
              "      <th>23</th>\n",
              "      <td>0.946992</td>\n",
              "      <td>-0.612871</td>\n",
              "    </tr>\n",
              "    <tr>\n",
              "      <th>24</th>\n",
              "      <td>2.265683</td>\n",
              "      <td>-1.602735</td>\n",
              "    </tr>\n",
              "    <tr>\n",
              "      <th>25</th>\n",
              "      <td>0.267021</td>\n",
              "      <td>4.741653</td>\n",
              "    </tr>\n",
              "    <tr>\n",
              "      <th>26</th>\n",
              "      <td>0.681699</td>\n",
              "      <td>3.809531</td>\n",
              "    </tr>\n",
              "    <tr>\n",
              "      <th>27</th>\n",
              "      <td>-0.230068</td>\n",
              "      <td>3.174335</td>\n",
              "    </tr>\n",
              "    <tr>\n",
              "      <th>28</th>\n",
              "      <td>-0.676710</td>\n",
              "      <td>3.573502</td>\n",
              "    </tr>\n",
              "    <tr>\n",
              "      <th>29</th>\n",
              "      <td>-2.290176</td>\n",
              "      <td>9.176052</td>\n",
              "    </tr>\n",
              "    <tr>\n",
              "      <th>30</th>\n",
              "      <td>2.592497</td>\n",
              "      <td>-0.467341</td>\n",
              "    </tr>\n",
              "    <tr>\n",
              "      <th>31</th>\n",
              "      <td>1.392709</td>\n",
              "      <td>0.186867</td>\n",
              "    </tr>\n",
              "    <tr>\n",
              "      <th>32</th>\n",
              "      <td>-1.256340</td>\n",
              "      <td>6.355124</td>\n",
              "    </tr>\n",
              "    <tr>\n",
              "      <th>33</th>\n",
              "      <td>-2.270477</td>\n",
              "      <td>9.620507</td>\n",
              "    </tr>\n",
              "    <tr>\n",
              "      <th>34</th>\n",
              "      <td>-0.420944</td>\n",
              "      <td>2.652331</td>\n",
              "    </tr>\n",
              "    <tr>\n",
              "      <th>35</th>\n",
              "      <td>2.474957</td>\n",
              "      <td>-1.533501</td>\n",
              "    </tr>\n",
              "    <tr>\n",
              "      <th>36</th>\n",
              "      <td>-1.130048</td>\n",
              "      <td>4.914935</td>\n",
              "    </tr>\n",
              "    <tr>\n",
              "      <th>37</th>\n",
              "      <td>-0.077648</td>\n",
              "      <td>2.584851</td>\n",
              "    </tr>\n",
              "    <tr>\n",
              "      <th>38</th>\n",
              "      <td>2.028019</td>\n",
              "      <td>-1.208729</td>\n",
              "    </tr>\n",
              "    <tr>\n",
              "      <th>39</th>\n",
              "      <td>-0.431298</td>\n",
              "      <td>4.448175</td>\n",
              "    </tr>\n",
              "    <tr>\n",
              "      <th>40</th>\n",
              "      <td>-1.863966</td>\n",
              "      <td>7.531595</td>\n",
              "    </tr>\n",
              "    <tr>\n",
              "      <th>41</th>\n",
              "      <td>-1.849536</td>\n",
              "      <td>6.714584</td>\n",
              "    </tr>\n",
              "    <tr>\n",
              "      <th>42</th>\n",
              "      <td>-0.614400</td>\n",
              "      <td>6.264818</td>\n",
              "    </tr>\n",
              "    <tr>\n",
              "      <th>43</th>\n",
              "      <td>2.340451</td>\n",
              "      <td>-0.622049</td>\n",
              "    </tr>\n",
              "    <tr>\n",
              "      <th>44</th>\n",
              "      <td>-2.427507</td>\n",
              "      <td>8.376876</td>\n",
              "    </tr>\n",
              "    <tr>\n",
              "      <th>45</th>\n",
              "      <td>-1.610111</td>\n",
              "      <td>6.295598</td>\n",
              "    </tr>\n",
              "    <tr>\n",
              "      <th>46</th>\n",
              "      <td>1.628049</td>\n",
              "      <td>0.256184</td>\n",
              "    </tr>\n",
              "    <tr>\n",
              "      <th>47</th>\n",
              "      <td>1.691381</td>\n",
              "      <td>0.124110</td>\n",
              "    </tr>\n",
              "    <tr>\n",
              "      <th>48</th>\n",
              "      <td>-2.329781</td>\n",
              "      <td>8.158821</td>\n",
              "    </tr>\n",
              "    <tr>\n",
              "      <th>49</th>\n",
              "      <td>1.053558</td>\n",
              "      <td>1.372734</td>\n",
              "    </tr>\n",
              "  </tbody>\n",
              "</table>\n",
              "</div>\n",
              "      <button class=\"colab-df-convert\" onclick=\"convertToInteractive('df-1d3c364a-3108-4981-821e-4d15e43aec86')\"\n",
              "              title=\"Convert this dataframe to an interactive table.\"\n",
              "              style=\"display:none;\">\n",
              "        \n",
              "  <svg xmlns=\"http://www.w3.org/2000/svg\" height=\"24px\"viewBox=\"0 0 24 24\"\n",
              "       width=\"24px\">\n",
              "    <path d=\"M0 0h24v24H0V0z\" fill=\"none\"/>\n",
              "    <path d=\"M18.56 5.44l.94 2.06.94-2.06 2.06-.94-2.06-.94-.94-2.06-.94 2.06-2.06.94zm-11 1L8.5 8.5l.94-2.06 2.06-.94-2.06-.94L8.5 2.5l-.94 2.06-2.06.94zm10 10l.94 2.06.94-2.06 2.06-.94-2.06-.94-.94-2.06-.94 2.06-2.06.94z\"/><path d=\"M17.41 7.96l-1.37-1.37c-.4-.4-.92-.59-1.43-.59-.52 0-1.04.2-1.43.59L10.3 9.45l-7.72 7.72c-.78.78-.78 2.05 0 2.83L4 21.41c.39.39.9.59 1.41.59.51 0 1.02-.2 1.41-.59l7.78-7.78 2.81-2.81c.8-.78.8-2.07 0-2.86zM5.41 20L4 18.59l7.72-7.72 1.47 1.35L5.41 20z\"/>\n",
              "  </svg>\n",
              "      </button>\n",
              "      \n",
              "  <style>\n",
              "    .colab-df-container {\n",
              "      display:flex;\n",
              "      flex-wrap:wrap;\n",
              "      gap: 12px;\n",
              "    }\n",
              "\n",
              "    .colab-df-convert {\n",
              "      background-color: #E8F0FE;\n",
              "      border: none;\n",
              "      border-radius: 50%;\n",
              "      cursor: pointer;\n",
              "      display: none;\n",
              "      fill: #1967D2;\n",
              "      height: 32px;\n",
              "      padding: 0 0 0 0;\n",
              "      width: 32px;\n",
              "    }\n",
              "\n",
              "    .colab-df-convert:hover {\n",
              "      background-color: #E2EBFA;\n",
              "      box-shadow: 0px 1px 2px rgba(60, 64, 67, 0.3), 0px 1px 3px 1px rgba(60, 64, 67, 0.15);\n",
              "      fill: #174EA6;\n",
              "    }\n",
              "\n",
              "    [theme=dark] .colab-df-convert {\n",
              "      background-color: #3B4455;\n",
              "      fill: #D2E3FC;\n",
              "    }\n",
              "\n",
              "    [theme=dark] .colab-df-convert:hover {\n",
              "      background-color: #434B5C;\n",
              "      box-shadow: 0px 1px 3px 1px rgba(0, 0, 0, 0.15);\n",
              "      filter: drop-shadow(0px 1px 2px rgba(0, 0, 0, 0.3));\n",
              "      fill: #FFFFFF;\n",
              "    }\n",
              "  </style>\n",
              "\n",
              "      <script>\n",
              "        const buttonEl =\n",
              "          document.querySelector('#df-1d3c364a-3108-4981-821e-4d15e43aec86 button.colab-df-convert');\n",
              "        buttonEl.style.display =\n",
              "          google.colab.kernel.accessAllowed ? 'block' : 'none';\n",
              "\n",
              "        async function convertToInteractive(key) {\n",
              "          const element = document.querySelector('#df-1d3c364a-3108-4981-821e-4d15e43aec86');\n",
              "          const dataTable =\n",
              "            await google.colab.kernel.invokeFunction('convertToInteractive',\n",
              "                                                     [key], {});\n",
              "          if (!dataTable) return;\n",
              "\n",
              "          const docLinkHtml = 'Like what you see? Visit the ' +\n",
              "            '<a target=\"_blank\" href=https://colab.research.google.com/notebooks/data_table.ipynb>data table notebook</a>'\n",
              "            + ' to learn more about interactive tables.';\n",
              "          element.innerHTML = '';\n",
              "          dataTable['output_type'] = 'display_data';\n",
              "          await google.colab.output.renderOutput(dataTable, element);\n",
              "          const docLink = document.createElement('div');\n",
              "          docLink.innerHTML = docLinkHtml;\n",
              "          element.appendChild(docLink);\n",
              "        }\n",
              "      </script>\n",
              "    </div>\n",
              "  </div>\n",
              "  "
            ]
          },
          "metadata": {},
          "execution_count": 75
        }
      ]
    },
    {
      "cell_type": "code",
      "source": [
        "import matplotlib.pyplot as plt\n",
        "sns.regplot(x=x_data,y=y,order=1,ci=None, scatter_kws={'color':'r', 's':9})\n",
        "plt.xlabel('x')\n",
        "plt.ylabel('y')"
      ],
      "metadata": {
        "colab": {
          "base_uri": "https://localhost:8080/",
          "height": 297
        },
        "id": "9IBGWPgeumjd",
        "outputId": "f8ea53c5-69f8-4a17-8c8e-7a2785639e17"
      },
      "execution_count": 76,
      "outputs": [
        {
          "output_type": "execute_result",
          "data": {
            "text/plain": [
              "Text(0, 0.5, 'y')"
            ]
          },
          "metadata": {},
          "execution_count": 76
        },
        {
          "output_type": "display_data",
          "data": {
            "text/plain": [
              "<Figure size 432x288 with 1 Axes>"
            ],
            "image/png": "[encoded data removed]"
          },
          "metadata": {
            "needs_background": "light"
          }
        }
      ]
    },
    {
      "cell_type": "markdown",
      "source": [
        "regression"
      ],
      "metadata": {
        "id": "F8E6-sTAvtoV"
      }
    },
    {
      "cell_type": "code",
      "source": [
        "import statsmodels.api as sm\n",
        "import statsmodels.formula.api as smf"
      ],
      "metadata": {
        "id": "mCXUxZw1wHF3"
      },
      "execution_count": 77,
      "outputs": []
    },
    {
      "cell_type": "code",
      "source": [
        "est = smf.ols('y ~ x',data).fit()"
      ],
      "metadata": {
        "id": "plkr8UXnyQb0"
      },
      "execution_count": 78,
      "outputs": []
    },
    {
      "cell_type": "code",
      "source": [
        "est.bse[1]"
      ],
      "metadata": {
        "colab": {
          "base_uri": "https://localhost:8080/"
        },
        "id": "_s5yATVp0xmq",
        "outputId": "465f4101-8c63-4568-9978-3c75c5a6c7c5"
      },
      "execution_count": 79,
      "outputs": [
        {
          "output_type": "execute_result",
          "data": {
            "text/plain": [
              "0.07845517251282402"
            ]
          },
          "metadata": {},
          "execution_count": 79
        }
      ]
    },
    {
      "cell_type": "code",
      "source": [
        "b0,b1=est.params[0],est.params[1]\n",
        "stderr1,stderr2=est.bse[0],est.bse[1]\n",
        "print(b0)\n",
        "print(b1)\n",
        "print(stderr1)\n",
        "print(stderr2)"
      ],
      "metadata": {
        "colab": {
          "base_uri": "https://localhost:8080/"
        },
        "id": "Udqdhmqb2bNg",
        "outputId": "67f97a96-54b2-4555-a7ed-c53f1887301b"
      },
      "execution_count": 80,
      "outputs": [
        {
          "output_type": "stream",
          "name": "stdout",
          "text": [
            "3.336204166420061\n",
            "-2.006202297620607\n",
            "0.1406040140196908\n",
            "0.07845517251282402\n"
          ]
        }
      ]
    },
    {
      "cell_type": "markdown",
      "source": [
        "統計檢定流程"
      ],
      "metadata": {
        "id": "cfadf5fD3UWH"
      }
    },
    {
      "cell_type": "markdown",
      "source": [
        "H0 : β1 = − 2 v.s. H1 : β1 ≠ − 2 α = 10 %"
      ],
      "metadata": {
        "id": "6lF1RIM63bhc"
      }
    },
    {
      "cell_type": "markdown",
      "source": [
        "test statistic of b1=hat(b1)/std(b1)服從標準常態分配(平均數=0，標準差=1平均數=0，標準差=1)\n"
      ],
      "metadata": {
        "id": "3oqYjXjh3pEe"
      }
    },
    {
      "cell_type": "code",
      "source": [
        "test_statistic_of_b1=(b1+2)/stderr2\n",
        "test_statistic_of_b1"
      ],
      "metadata": {
        "colab": {
          "base_uri": "https://localhost:8080/"
        },
        "id": "xmKGpLbi3azm",
        "outputId": "3aaf0d7a-84b1-4a05-c5bb-85a31c054c34"
      },
      "execution_count": 81,
      "outputs": [
        {
          "output_type": "execute_result",
          "data": {
            "text/plain": [
              "-0.07905530536680752"
            ]
          },
          "metadata": {},
          "execution_count": 81
        }
      ]
    },
    {
      "cell_type": "markdown",
      "source": [
        "在顯著水準10%下(n=50)t值臨界點為+-1.645"
      ],
      "metadata": {
        "id": "Ghy-0Iij4Ml_"
      }
    },
    {
      "cell_type": "markdown",
      "source": [
        "故檢定統計量-1.1534532716636572>-1.645，故不拒絕虛無假設H0 : β1 = − 2\n",
        "\n",
        "\n",
        "\n"
      ],
      "metadata": {
        "id": "D8XY3Xch48c3"
      }
    },
    {
      "cell_type": "markdown",
      "source": [
        "# Question 2(檢定)"
      ],
      "metadata": {
        "id": "jwfmcli65-yo"
      }
    },
    {
      "cell_type": "markdown",
      "source": [
        "Complete the table with with the following steps"
      ],
      "metadata": {
        "id": "miymnXgn6hj_"
      }
    },
    {
      "cell_type": "markdown",
      "source": [
        "m = 10, 1000, 100,000\n",
        "For j = 1 : m\n",
        "1. Generate from the regression model:\n",
        "2. With data , calculate and implement\n",
        " (with ).\n",
        "3. Set if you reject in the above step."
      ],
      "metadata": {
        "id": "e1sqCHpn6lKj"
      }
    },
    {
      "cell_type": "markdown",
      "source": [
        "m=10"
      ],
      "metadata": {
        "id": "-ba3TyWa7HV4"
      }
    },
    {
      "cell_type": "code",
      "source": [
        "m=10\n",
        "n=50\n",
        "y=[]\n",
        "x_data=[]\n",
        "residual_data=[]\n",
        "d=0\n",
        "for i in range(m):\n",
        "  y=[]\n",
        "  x_data=[]\n",
        "  for j in range(n):\n",
        "    residual=random.normal(0,1)\n",
        "    x=random.uniform(-3,3)\n",
        "    data_y=beta_0+beta_1*x+residual\n",
        "    y.append(data_y)\n",
        "    x_data.append(x)\n",
        "  data=pd.DataFrame({'x':x_data,'y':y})\n",
        "  est = smf.ols('y ~ x',data).fit()\n",
        "  test_statistic_of_b1=(est.params[1]+2)/est.bse[1]\n",
        "  print(test_statistic_of_b1)\n",
        "  if test_statistic_of_b1<-1.645:\n",
        "    d+=1\n",
        "  else:\n",
        "    d+=0\n",
        "average_d=d/m\n",
        "average_d\n"
      ],
      "metadata": {
        "colab": {
          "base_uri": "https://localhost:8080/"
        },
        "id": "FEdAM97L5jF-",
        "outputId": "30b3632f-06c2-48f5-f7cb-762a60482678"
      },
      "execution_count": 82,
      "outputs": [
        {
          "output_type": "stream",
          "name": "stdout",
          "text": [
            "0.09123349156603314\n",
            "0.9205263328036641\n",
            "0.5533411175964342\n",
            "-1.3421075498388932\n",
            "-0.8069287725464351\n",
            "-0.13071974890686988\n",
            "0.5884006507184758\n",
            "0.17968730526743792\n",
            "-0.2031807876455008\n",
            "0.643493686446485\n"
          ]
        },
        {
          "output_type": "execute_result",
          "data": {
            "text/plain": [
              "0.0"
            ]
          },
          "metadata": {},
          "execution_count": 82
        }
      ]
    },
    {
      "cell_type": "markdown",
      "source": [
        "m=1000"
      ],
      "metadata": {
        "id": "inzwgFql-ohz"
      }
    },
    {
      "cell_type": "code",
      "source": [
        "m=1000\n",
        "n=50\n",
        "y=[]\n",
        "x_data=[]\n",
        "residual_data=[]\n",
        "d=0\n",
        "for i in range(m):\n",
        "  y=[]\n",
        "  x_data=[]\n",
        "  for j in range(n):\n",
        "    residual=random.normal(0,1)\n",
        "    x=random.uniform(-3,3)\n",
        "    data_y=beta_0+beta_1*x+residual\n",
        "    y.append(data_y)\n",
        "    x_data.append(x)\n",
        "  data=pd.DataFrame({'x':x_data,'y':y})\n",
        "  est = smf.ols('y ~ x',data).fit()\n",
        "  test_statistic_of_b1=(est.params[1]+2)/est.bse[1]\n",
        "  if test_statistic_of_b1<-1.645:\n",
        "    d+=1\n",
        "  else:\n",
        "    d+=0\n",
        "average_d=d/m\n",
        "average_d"
      ],
      "metadata": {
        "colab": {
          "base_uri": "https://localhost:8080/"
        },
        "id": "hukYBt_S-q_7",
        "outputId": "da3579b9-ab17-4a1a-cc4d-8c96e8474454"
      },
      "execution_count": 83,
      "outputs": [
        {
          "output_type": "execute_result",
          "data": {
            "text/plain": [
              "0.047"
            ]
          },
          "metadata": {},
          "execution_count": 83
        }
      ]
    },
    {
      "cell_type": "markdown",
      "source": [
        "m=100000"
      ],
      "metadata": {
        "id": "qkBeItCa_VlJ"
      }
    },
    {
      "cell_type": "code",
      "source": [
        "m=100000\n",
        "n=50\n",
        "y=[]\n",
        "x_data=[]\n",
        "residual_data=[]\n",
        "d=0\n",
        "for i in range(m):\n",
        "  y=[]\n",
        "  x_data=[]\n",
        "  for j in range(n):\n",
        "    residual=random.normal(0,1)\n",
        "    x=random.uniform(-3,3)\n",
        "    data_y=beta_0+beta_1*x+residual\n",
        "    y.append(data_y)\n",
        "    x_data.append(x)\n",
        "  data=pd.DataFrame({'x':x_data,'y':y})\n",
        "  est = smf.ols('y ~ x',data).fit()\n",
        "  test_statistic_of_b1=(est.params[1]+2)/est.bse[1]\n",
        "  if test_statistic_of_b1<-1.645:\n",
        "    d+=1\n",
        "  else:\n",
        "    d+=0\n",
        "average_d=d/m\n",
        "average_d"
      ],
      "metadata": {
        "colab": {
          "base_uri": "https://localhost:8080/"
        },
        "id": "jeg5POpa_Ogn",
        "outputId": "2ba845db-3257-4e16-d46d-c4e4cc015c50"
      },
      "execution_count": 84,
      "outputs": [
        {
          "output_type": "execute_result",
          "data": {
            "text/plain": [
              "0.05306"
            ]
          },
          "metadata": {},
          "execution_count": 84
        }
      ]
    },
    {
      "cell_type": "markdown",
      "source": [
        "1.   m=10,average_d=0.0 \n",
        "2.   m=1000,average_d=0.047\n",
        "3.   m=100000,average_d=0.05306\n"
      ],
      "metadata": {
        "id": "SEoF9bhFI7Fs"
      }
    }
  ]
}